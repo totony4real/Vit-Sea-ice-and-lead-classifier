{
 "cells": [
  {
   "cell_type": "code",
   "execution_count": null,
   "metadata": {},
   "outputs": [],
   "source": [
    "pip install pyproj\n",
    "pip install cartopy"
   ]
  },
  {
   "cell_type": "code",
   "execution_count": null,
   "metadata": {},
   "outputs": [],
   "source": [
    "#Load the saved model for implementation\n",
    "models = keras.models.load_model('')"
   ]
  },
  {
   "cell_type": "code",
   "execution_count": null,
   "metadata": {},
   "outputs": [],
   "source": [
    "# path = '/'\n",
    "# path = './More OLCI/'\n",
    "import os\n",
    "import netCDF4\n",
    "import numpy as np \n",
    "import pyproj\n",
    "import cartopy.crs as ccrs\n",
    "import matplotlib.pyplot as plt\n",
    "from math import pi\n",
    "from sklearn.datasets import load_sample_image\n",
    "from sklearn.feature_extraction import image\n",
    "import tensorflow as tf\n",
    "from tensorflow import keras\n",
    "from tensorflow.keras import layers\n",
    "import tensorflow_addons as tfa\n",
    "from sklearn.ensemble import RandomForestClassifier\n",
    "from sklearn.metrics import accuracy_score,confusion_matrix,classification_report\n",
    "\n",
    "\n",
    "\n",
    "path = ''"
   ]
  },
  {
   "cell_type": "code",
   "execution_count": null,
   "metadata": {},
   "outputs": [],
   "source": [
    "# Specify your directory = ''\n",
    "directory = ''\n",
    "# Load in geolocation\n",
    "geolocation = netCDF4.Dataset(path+directory+'/geo_coordinates.nc')\n",
    "lat = geolocation.variables['latitude'][:]\n",
    "lon = geolocation.variables['longitude'][:]\n",
    "\n",
    "# Load in radiance\n",
    "Band_Oa01 = netCDF4.Dataset(path+directory+'/Oa01_radiance.nc')\n",
    "Oa01_Radiance = Band_Oa01.variables['Oa01_radiance'][:]\n"
   ]
  },
  {
   "cell_type": "code",
   "execution_count": null,
   "metadata": {},
   "outputs": [],
   "source": [
    "# Convert from WGS84 to EASE2\n",
    "def WGS84toEASE2(lon, lat):\n",
    "    proj_EASE2 = pyproj.Proj(\"+proj=laea +lon_0=0 +lat_0=90 +x_0=0 +y_0=0 +ellps=WGS84 +towgs84=0,0,0,0,0,0,0 +units=m +no_defs\")\n",
    "    proj_WGS84 = pyproj.Proj(\"+proj=longlat +ellps=WGS84 +datum=WGS84 +no_defs \")\n",
    "    x , y = pyproj.transform(proj_WGS84, proj_EASE2, lon, lat)\n",
    "    return x, y\n",
    "\n",
    "X, Y = WGS84toEASE2(lon, lat)\n"
   ]
  },
  {
   "cell_type": "code",
   "execution_count": null,
   "metadata": {},
   "outputs": [],
   "source": [
    "OLCI_file_p=path+directory\n",
    "instrument_data = netCDF4.Dataset(OLCI_file_p+'/instrument_data.nc')\n",
    "solar_flux = instrument_data.variables['solar_flux'][:]\n",
    "solar_flux_Band_Oa01 = solar_flux[0] # Band 1 has index 0 ect. \n",
    "detector_index = instrument_data.variables['detector_index'][:]\n",
    "\n",
    "# Load in tie geometries\n",
    "tie_geometries = netCDF4.Dataset(OLCI_file_p+'/tie_geometries.nc')\n",
    "SZA = tie_geometries.variables['SZA'][:]"
   ]
  },
  {
   "cell_type": "code",
   "execution_count": null,
   "metadata": {},
   "outputs": [],
   "source": [
    "##Split images according to patches for prediction (with the gradient removed)\n",
    "Bands=[]\n",
    "Patches=[]\n",
    "nx=X.shape[0]-2\n",
    "ny=X.shape[1]-2\n",
    "q = 0\n",
    "for i in range(1,22):\n",
    "    solar_flux_Band_Oa01 = solar_flux[q]\n",
    "    print(i)\n",
    "    bandnumber = '%02d' % (i)\n",
    "    Band_Oa_temp = netCDF4.Dataset(path+directory+'/Oa'+bandnumber+'_radiance.nc')\n",
    "\n",
    "    width = instrument_data.dimensions['columns'].size\n",
    "    height = instrument_data.dimensions['rows'].size\n",
    "\n",
    "    TOA_BRF = np.zeros((height, width), dtype='float32')\n",
    "    angle=np.zeros((TOA_BRF.shape[0],TOA_BRF.shape[1]))\n",
    "    for x in range(TOA_BRF.shape[1]):\n",
    "      angle[:,x]=SZA[:,int(x/64)]\n",
    "\n",
    "    width = instrument_data.dimensions['columns'].size\n",
    "    height = instrument_data.dimensions['rows'].size\n",
    "\n",
    "    #TOA_BRF = np.zeros((height, width), dtype=float)\n",
    "    #TOA_BRF=np.pi*Oa01_Radiance/solar_flux_Band_Oa01[detector_index]/np.cos(np.radians(angle))\n",
    "    oa = Band_Oa_temp.variables['Oa'+bandnumber+'_radiance'][:]\n",
    "    TOA_BRF = np.zeros((height, width), dtype=float)\n",
    "    TOA_BRF=np.pi*np.asarray(oa)/solar_flux_Band_Oa01[detector_index]/np.cos(np.radians(angle))\n",
    "    Bands.append(TOA_BRF)\n",
    "    Patches.append(image.extract_patches_2d(np.array(TOA_BRF), (3, 3)).reshape(nx,ny,3,3))\n",
    "    q = q + 1\n",
    "    \n",
    "    \n",
    "    "
   ]
  },
  {
   "cell_type": "code",
   "execution_count": null,
   "metadata": {},
   "outputs": [],
   "source": [
    "Pathches_array=np.asarray(Patches)\n",
    "Pathches_array.shape\n",
    "x_test_all=np.moveaxis(Pathches_array,0,-1).reshape(Pathches_array.shape[1]*Pathches_array.shape[2],3,3,21)"
   ]
  },
  {
   "cell_type": "code",
   "execution_count": null,
   "metadata": {},
   "outputs": [],
   "source": [
    "#Start the prediction\n",
    "y_pred=model.predict(x_test_all)\n",
    "print(y_pred)\n",
    "y_pred1 = np.argmax(y_pred,axis = 1)\n",
    "print(np.argmax(y_pred,axis = 1))\n",
    "Map=y_pred1.reshape(Pathches_array.shape[1],Pathches_array.shape[2])"
   ]
  },
  {
   "cell_type": "code",
   "execution_count": null,
   "metadata": {},
   "outputs": [],
   "source": [
    "%matplotlib inline\n",
    "import matplotlib as mpl\n",
    "mpl.rcParams['figure.dpi'] = 600"
   ]
  },
  {
   "cell_type": "code",
   "execution_count": null,
   "metadata": {},
   "outputs": [],
   "source": [
    "plt.imshow(Map)"
   ]
  }
 ],
 "metadata": {
  "language_info": {
   "name": "python"
  },
  "orig_nbformat": 4
 },
 "nbformat": 4,
 "nbformat_minor": 2
}
